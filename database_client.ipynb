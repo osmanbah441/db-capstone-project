{
 "cells": [
  {
   "cell_type": "code",
   "execution_count": 1,
   "id": "309635ab",
   "metadata": {},
   "outputs": [
    {
     "name": "stdout",
     "output_type": "stream",
     "text": [
      "Requirement already satisfied: mysql-connector-python in c:\\users\\ibahf\\appdata\\local\\programs\\python\\python311\\lib\\site-packages (8.0.33)\n",
      "Requirement already satisfied: protobuf<=3.20.3,>=3.11.0 in c:\\users\\ibahf\\appdata\\local\\programs\\python\\python311\\lib\\site-packages (from mysql-connector-python) (3.20.3)\n"
     ]
    }
   ],
   "source": [
    "!pip install mysql-connector-python"
   ]
  },
  {
   "cell_type": "code",
   "execution_count": 8,
   "id": "7b0c12e0",
   "metadata": {},
   "outputs": [
    {
     "name": "stdout",
     "output_type": "stream",
     "text": [
      "[('bookings',), ('customers',), ('menuitems',), ('menus',), ('order_delivery_status',), ('orders',), ('ordersview',), ('staffs',)]\n"
     ]
    }
   ],
   "source": [
    "import mysql.connector as connector\n",
    "connection = connector.connect(user = \"osman\", password = \"Pa55word#123\")\n",
    "cursor = connection.cursor()\n",
    "cursor.execute(\"USE littlelemondb\")\n",
    "cursor.execute(\"SHOW tables\")\n",
    "\n",
    "results = cursor.fetchall()\n",
    "print(results)\n"
   ]
  },
  {
   "cell_type": "code",
   "execution_count": 12,
   "metadata": {},
   "outputs": [
    {
     "name": "stdout",
     "output_type": "stream",
     "text": [
      "('John Doe', 'john.doe@example.com', '+15555555555', Decimal('160.99'))\n",
      "('Jane Doe', 'jane.doe@example.com', '+15555555556', Decimal('200.99'))\n",
      "('Peter Parker', 'peter.parker@example.com', '+15555555557', Decimal('100.99'))\n",
      "('Bruce Wayne', 'bruce.wayne@example.com', '+15555555559', Decimal('96.99'))\n"
     ]
    }
   ],
   "source": [
    "query = \"\"\"\n",
    "SELECT c.fullName, c.email, c.phoneNumber, o.totalCost \n",
    "FROM customers AS c\n",
    "INNER JOIN orders AS o ON c.customerID = o.customerID\n",
    "WHERE o.totalCost > 60;\n",
    "\"\"\"\n",
    "\n",
    "cursor.execute(query)\n",
    "\n",
    "results = cursor.fetchall()\n",
    "for result in results:\n",
    "    print(result)"
   ]
  }
 ],
 "metadata": {
  "kernelspec": {
   "display_name": "Python 3 (ipykernel)",
   "language": "python",
   "name": "python3"
  },
  "language_info": {
   "codemirror_mode": {
    "name": "ipython",
    "version": 3
   },
   "file_extension": ".py",
   "mimetype": "text/x-python",
   "name": "python",
   "nbconvert_exporter": "python",
   "pygments_lexer": "ipython3",
   "version": "3.11.2"
  }
 },
 "nbformat": 4,
 "nbformat_minor": 5
}
